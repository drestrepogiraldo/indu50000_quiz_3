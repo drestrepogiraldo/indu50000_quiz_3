{
 "cells": [
  {
   "cell_type": "markdown",
   "source": "# Quiz # 3",
   "metadata": {
    "tags": [],
    "is_collapsed": false,
    "cell_id": "00000-55d2e37d-62dc-41a3-8774-fbc2b07c55c3",
    "deepnote_cell_type": "text-cell-h1"
   }
  },
  {
   "cell_type": "markdown",
   "source": "## Business Problem",
   "metadata": {
    "tags": [],
    "is_collapsed": false,
    "cell_id": "00001-936afd84-d814-4a1c-8c2e-d38f5deca2b3",
    "deepnote_cell_type": "text-cell-h2"
   }
  },
  {
   "cell_type": "markdown",
   "source": "The Kepler Space Observatory is a NASA-build satellite that was launched in 2009. The telescope is dedicated to searching for exoplanets in star systems besides our own, with the ultimate goal of possibly finding other habitable planets besides our own. The original mission ended in 2013 due to mechanical failures, but the telescope has nevertheless been functional since 2014 on a \"K2\" extended mission.\n\nKepler had verified 1284 new exoplanets as of May 2016. As of October 2017 there are over 3000 confirmed exoplanets total (using all detection methods, including ground-based ones). The telescope is still active and continues to collect new data on its extended mission.",
   "metadata": {
    "tags": [],
    "cell_id": "00002-bf7e9c71-2a21-4465-83a9-fc455c778fa5",
    "deepnote_cell_type": "markdown"
   }
  },
  {
   "cell_type": "markdown",
   "source": "",
   "metadata": {
    "tags": [],
    "cell_id": "00003-a6caa5fd-00eb-451b-9e89-6b880674e3bb",
    "deepnote_cell_type": "markdown"
   }
  },
  {
   "cell_type": "markdown",
   "source": "## Packages Import",
   "metadata": {
    "tags": [],
    "is_collapsed": false,
    "cell_id": "00003-e8f1aaad-e81e-48b6-ae11-d1f73f18dffa",
    "deepnote_cell_type": "text-cell-h2"
   }
  },
  {
   "cell_type": "code",
   "metadata": {
    "tags": [],
    "cell_id": "00004-a7cca3ad-ce5c-490b-88bf-2dc2d90f845d",
    "deepnote_to_be_reexecuted": false,
    "source_hash": "a33e59f2",
    "execution_start": 1635459025343,
    "execution_millis": 856,
    "deepnote_cell_type": "code"
   },
   "source": "import numpy as np \nimport pandas as pd \nimport seaborn as sns \nimport matplotlib.pyplot as plt",
   "outputs": [],
   "execution_count": null
  },
  {
   "cell_type": "markdown",
   "source": "## Data Import",
   "metadata": {
    "tags": [],
    "is_collapsed": false,
    "cell_id": "00005-3ba598fd-077f-4182-b52b-b982ea35554d",
    "deepnote_cell_type": "text-cell-h2"
   }
  },
  {
   "cell_type": "markdown",
   "source": "The information was downloaded from a freely available dataset from [Kaggle](https://www.kaggle.com/nasa/kepler-exoplanet-search-results)",
   "metadata": {
    "tags": [],
    "cell_id": "00006-647eeb21-fab1-41c2-bf26-fa15a2dad74b",
    "deepnote_cell_type": "markdown"
   }
  },
  {
   "cell_type": "code",
   "metadata": {
    "tags": [],
    "cell_id": "00007-3d0b2395-d17f-4025-b0b0-5cf3b362eed2",
    "deepnote_to_be_reexecuted": false,
    "source_hash": "7c4da3a6",
    "execution_start": 1635459026205,
    "execution_millis": 232,
    "deepnote_cell_type": "code"
   },
   "source": "df_exoplanets = pd.read_csv('/work/indu5000_quiz_3/Data/Kepler_Exoplanet_Search_Results.csv')\ndf_exoplanets.head(3)",
   "outputs": [
    {
     "output_type": "execute_result",
     "execution_count": 2,
     "data": {
      "application/vnd.deepnote.dataframe.v2+json": {
       "row_count": 3,
       "column_count": 50,
       "columns": [
        {
         "name": "rowid",
         "dtype": "int64",
         "stats": {
          "unique_count": 3,
          "nan_count": 0,
          "min": "1",
          "max": "3",
          "histogram": [
           {
            "bin_start": 1,
            "bin_end": 1.2,
            "count": 1
           },
           {
            "bin_start": 1.2,
            "bin_end": 1.4,
            "count": 0
           },
           {
            "bin_start": 1.4,
            "bin_end": 1.6,
            "count": 0
           },
           {
            "bin_start": 1.6,
            "bin_end": 1.8,
            "count": 0
           },
           {
            "bin_start": 1.8,
            "bin_end": 2,
            "count": 0
           },
           {
            "bin_start": 2,
            "bin_end": 2.2,
            "count": 1
           },
           {
            "bin_start": 2.2,
            "bin_end": 2.4000000000000004,
            "count": 0
           },
           {
            "bin_start": 2.4000000000000004,
            "bin_end": 2.6,
            "count": 0
           },
           {
            "bin_start": 2.6,
            "bin_end": 2.8,
            "count": 0
           },
           {
            "bin_start": 2.8,
            "bin_end": 3,
            "count": 1
           }
          ]
         }
        },
        {
         "name": "kepid",
         "dtype": "int64",
         "stats": {
          "unique_count": 2,
          "nan_count": 0,
          "min": "10797460",
          "max": "10811496",
          "histogram": [
           {
            "bin_start": 10797460,
            "bin_end": 10798863.6,
            "count": 2
           },
           {
            "bin_start": 10798863.6,
            "bin_end": 10800267.2,
            "count": 0
           },
           {
            "bin_start": 10800267.2,
            "bin_end": 10801670.8,
            "count": 0
           },
           {
            "bin_start": 10801670.8,
            "bin_end": 10803074.4,
            "count": 0
           },
           {
            "bin_start": 10803074.4,
            "bin_end": 10804478,
            "count": 0
           },
           {
            "bin_start": 10804478,
            "bin_end": 10805881.6,
            "count": 0
           },
           {
            "bin_start": 10805881.6,
            "bin_end": 10807285.2,
            "count": 0
           },
           {
            "bin_start": 10807285.2,
            "bin_end": 10808688.8,
            "count": 0
           },
           {
            "bin_start": 10808688.8,
            "bin_end": 10810092.4,
            "count": 0
           },
           {
            "bin_start": 10810092.4,
            "bin_end": 10811496,
            "count": 1
           }
          ]
         }
        },
        {
         "name": "kepoi_name",
         "dtype": "object",
         "stats": {
          "unique_count": 3,
          "nan_count": 0,
          "categories": [
           {
            "name": "K00752.01",
            "count": 1
           },
           {
            "name": "K00752.02",
            "count": 1
           },
           {
            "name": "K00753.01",
            "count": 1
           }
          ]
         }
        },
        {
         "name": "kepler_name",
         "dtype": "object",
         "stats": {
          "unique_count": 2,
          "nan_count": 1,
          "categories": [
           {
            "name": "Kepler-227 b",
            "count": 1
           },
           {
            "name": "Kepler-227 c",
            "count": 1
           },
           {
            "name": "Missing",
            "count": 1
           }
          ]
         }
        },
        {
         "name": "koi_disposition",
         "dtype": "object",
         "stats": {
          "unique_count": 2,
          "nan_count": 0,
          "categories": [
           {
            "name": "CONFIRMED",
            "count": 2
           },
           {
            "name": "FALSE POSITIVE",
            "count": 1
           }
          ]
         }
        },
        {
         "name": "koi_pdisposition",
         "dtype": "object",
         "stats": {
          "unique_count": 2,
          "nan_count": 0,
          "categories": [
           {
            "name": "CANDIDATE",
            "count": 2
           },
           {
            "name": "FALSE POSITIVE",
            "count": 1
           }
          ]
         }
        },
        {
         "name": "koi_score",
         "dtype": "float64",
         "stats": {
          "unique_count": 3,
          "nan_count": 0,
          "min": "0.0",
          "max": "1.0",
          "histogram": [
           {
            "bin_start": 0,
            "bin_end": 0.1,
            "count": 1
           },
           {
            "bin_start": 0.1,
            "bin_end": 0.2,
            "count": 0
           },
           {
            "bin_start": 0.2,
            "bin_end": 0.30000000000000004,
            "count": 0
           },
           {
            "bin_start": 0.30000000000000004,
            "bin_end": 0.4,
            "count": 0
           },
           {
            "bin_start": 0.4,
            "bin_end": 0.5,
            "count": 0
           },
           {
            "bin_start": 0.5,
            "bin_end": 0.6000000000000001,
            "count": 0
           },
           {
            "bin_start": 0.6000000000000001,
            "bin_end": 0.7000000000000001,
            "count": 0
           },
           {
            "bin_start": 0.7000000000000001,
            "bin_end": 0.8,
            "count": 0
           },
           {
            "bin_start": 0.8,
            "bin_end": 0.9,
            "count": 0
           },
           {
            "bin_start": 0.9,
            "bin_end": 1,
            "count": 2
           }
          ]
         }
        },
        {
         "name": "koi_fpflag_nt",
         "dtype": "int64",
         "stats": {
          "unique_count": 1,
          "nan_count": 0,
          "min": "0",
          "max": "0",
          "histogram": [
           {
            "bin_start": -0.5,
            "bin_end": -0.4,
            "count": 0
           },
           {
            "bin_start": -0.4,
            "bin_end": -0.3,
            "count": 0
           },
           {
            "bin_start": -0.3,
            "bin_end": -0.19999999999999996,
            "count": 0
           },
           {
            "bin_start": -0.19999999999999996,
            "bin_end": -0.09999999999999998,
            "count": 0
           },
           {
            "bin_start": -0.09999999999999998,
            "bin_end": 0,
            "count": 0
           },
           {
            "bin_start": 0,
            "bin_end": 0.10000000000000009,
            "count": 3
           },
           {
            "bin_start": 0.10000000000000009,
            "bin_end": 0.20000000000000007,
            "count": 0
           },
           {
            "bin_start": 0.20000000000000007,
            "bin_end": 0.30000000000000004,
            "count": 0
           },
           {
            "bin_start": 0.30000000000000004,
            "bin_end": 0.4,
            "count": 0
           },
           {
            "bin_start": 0.4,
            "bin_end": 0.5,
            "count": 0
           }
          ]
         }
        },
        {
         "name": "koi_fpflag_ss",
         "dtype": "int64",
         "stats": {
          "unique_count": 2,
          "nan_count": 0,
          "min": "0",
          "max": "1",
          "histogram": [
           {
            "bin_start": 0,
            "bin_end": 0.1,
            "count": 2
           },
           {
            "bin_start": 0.1,
            "bin_end": 0.2,
            "count": 0
           },
           {
            "bin_start": 0.2,
            "bin_end": 0.30000000000000004,
            "count": 0
           },
           {
            "bin_start": 0.30000000000000004,
            "bin_end": 0.4,
            "count": 0
           },
           {
            "bin_start": 0.4,
            "bin_end": 0.5,
            "count": 0
           },
           {
            "bin_start": 0.5,
            "bin_end": 0.6000000000000001,
            "count": 0
           },
           {
            "bin_start": 0.6000000000000001,
            "bin_end": 0.7000000000000001,
            "count": 0
           },
           {
            "bin_start": 0.7000000000000001,
            "bin_end": 0.8,
            "count": 0
           },
           {
            "bin_start": 0.8,
            "bin_end": 0.9,
            "count": 0
           },
           {
            "bin_start": 0.9,
            "bin_end": 1,
            "count": 1
           }
          ]
         }
        },
        {
         "name": "koi_fpflag_co",
         "dtype": "int64",
         "stats": {
          "unique_count": 1,
          "nan_count": 0,
          "min": "0",
          "max": "0",
          "histogram": [
           {
            "bin_start": -0.5,
            "bin_end": -0.4,
            "count": 0
           },
           {
            "bin_start": -0.4,
            "bin_end": -0.3,
            "count": 0
           },
           {
            "bin_start": -0.3,
            "bin_end": -0.19999999999999996,
            "count": 0
           },
           {
            "bin_start": -0.19999999999999996,
            "bin_end": -0.09999999999999998,
            "count": 0
           },
           {
            "bin_start": -0.09999999999999998,
            "bin_end": 0,
            "count": 0
           },
           {
            "bin_start": 0,
            "bin_end": 0.10000000000000009,
            "count": 3
           },
           {
            "bin_start": 0.10000000000000009,
            "bin_end": 0.20000000000000007,
            "count": 0
           },
           {
            "bin_start": 0.20000000000000007,
            "bin_end": 0.30000000000000004,
            "count": 0
           },
           {
            "bin_start": 0.30000000000000004,
            "bin_end": 0.4,
            "count": 0
           },
           {
            "bin_start": 0.4,
            "bin_end": 0.5,
            "count": 0
           }
          ]
         }
        },
        {
         "name": "koi_fpflag_ec",
         "dtype": "int64",
         "stats": {
          "unique_count": 1,
          "nan_count": 0,
          "min": "0",
          "max": "0",
          "histogram": [
           {
            "bin_start": -0.5,
            "bin_end": -0.4,
            "count": 0
           },
           {
            "bin_start": -0.4,
            "bin_end": -0.3,
            "count": 0
           },
           {
            "bin_start": -0.3,
            "bin_end": -0.19999999999999996,
            "count": 0
           },
           {
            "bin_start": -0.19999999999999996,
            "bin_end": -0.09999999999999998,
            "count": 0
           },
           {
            "bin_start": -0.09999999999999998,
            "bin_end": 0,
            "count": 0
           },
           {
            "bin_start": 0,
            "bin_end": 0.10000000000000009,
            "count": 3
           },
           {
            "bin_start": 0.10000000000000009,
            "bin_end": 0.20000000000000007,
            "count": 0
           },
           {
            "bin_start": 0.20000000000000007,
            "bin_end": 0.30000000000000004,
            "count": 0
           },
           {
            "bin_start": 0.30000000000000004,
            "bin_end": 0.4,
            "count": 0
           },
           {
            "bin_start": 0.4,
            "bin_end": 0.5,
            "count": 0
           }
          ]
         }
        },
        {
         "name": "koi_period",
         "dtype": "float64",
         "stats": {
          "unique_count": 3,
          "nan_count": 0,
          "min": "9.48803557",
          "max": "54.4183827",
          "histogram": [
           {
            "bin_start": 9.48803557,
            "bin_end": 13.981070283,
            "count": 1
           },
           {
            "bin_start": 13.981070283,
            "bin_end": 18.474104996,
            "count": 0
           },
           {
            "bin_start": 18.474104996,
            "bin_end": 22.967139709,
            "count": 1
           },
           {
            "bin_start": 22.967139709,
            "bin_end": 27.460174422,
            "count": 0
           },
           {
            "bin_start": 27.460174422,
            "bin_end": 31.953209135,
            "count": 0
           },
           {
            "bin_start": 31.953209135,
            "bin_end": 36.446243848,
            "count": 0
           },
           {
            "bin_start": 36.446243848,
            "bin_end": 40.939278561,
            "count": 0
           },
           {
            "bin_start": 40.939278561,
            "bin_end": 45.432313274,
            "count": 0
           },
           {
            "bin_start": 45.432313274,
            "bin_end": 49.925347987,
            "count": 0
           },
           {
            "bin_start": 49.925347987,
            "bin_end": 54.4183827,
            "count": 1
           }
          ]
         }
        },
        {
         "name": "koi_period_err1",
         "dtype": "float64",
         "stats": {
          "unique_count": 3,
          "nan_count": 0,
          "min": "1.494e-05",
          "max": "0.0002479",
          "histogram": [
           {
            "bin_start": 0.00001494,
            "bin_end": 0.000038236000000000005,
            "count": 2
           },
           {
            "bin_start": 0.000038236000000000005,
            "bin_end": 0.000061532,
            "count": 0
           },
           {
            "bin_start": 0.000061532,
            "bin_end": 0.00008482800000000001,
            "count": 0
           },
           {
            "bin_start": 0.00008482800000000001,
            "bin_end": 0.00010812400000000001,
            "count": 0
           },
           {
            "bin_start": 0.00010812400000000001,
            "bin_end": 0.00013142,
            "count": 0
           },
           {
            "bin_start": 0.00013142,
            "bin_end": 0.000154716,
            "count": 0
           },
           {
            "bin_start": 0.000154716,
            "bin_end": 0.000178012,
            "count": 0
           },
           {
            "bin_start": 0.000178012,
            "bin_end": 0.000201308,
            "count": 0
           },
           {
            "bin_start": 0.000201308,
            "bin_end": 0.00022460400000000002,
            "count": 0
           },
           {
            "bin_start": 0.00022460400000000002,
            "bin_end": 0.0002479,
            "count": 1
           }
          ]
         }
        },
        {
         "name": "koi_period_err2",
         "dtype": "float64",
         "stats": {
          "unique_count": 3,
          "nan_count": 0,
          "min": "-0.0002479",
          "max": "-1.494e-05",
          "histogram": [
           {
            "bin_start": -0.0002479,
            "bin_end": -0.000224604,
            "count": 1
           },
           {
            "bin_start": -0.000224604,
            "bin_end": -0.000201308,
            "count": 0
           },
           {
            "bin_start": -0.000201308,
            "bin_end": -0.00017801200000000002,
            "count": 0
           },
           {
            "bin_start": -0.00017801200000000002,
            "bin_end": -0.000154716,
            "count": 0
           },
           {
            "bin_start": -0.000154716,
            "bin_end": -0.00013141999999999999,
            "count": 0
           },
           {
            "bin_start": -0.00013141999999999999,
            "bin_end": -0.000108124,
            "count": 0
           },
           {
            "bin_start": -0.000108124,
            "bin_end": -0.00008482800000000001,
            "count": 0
           },
           {
            "bin_start": -0.00008482800000000001,
            "bin_end": -0.00006153199999999999,
            "count": 0
           },
           {
            "bin_start": -0.00006153199999999999,
            "bin_end": -0.00003823599999999998,
            "count": 0
           },
           {
            "bin_start": -0.00003823599999999998,
            "bin_end": -0.00001494,
            "count": 2
           }
          ]
         }
        },
        {
         "name": "koi_time0bk",
         "dtype": "float64",
         "stats": {
          "unique_count": 3,
          "nan_count": 0,
          "min": "162.51384",
          "max": "175.850252",
          "histogram": [
           {
            "bin_start": 162.51384,
            "bin_end": 163.8474812,
            "count": 1
           },
           {
            "bin_start": 163.8474812,
            "bin_end": 165.1811224,
            "count": 0
           },
           {
            "bin_start": 165.1811224,
            "bin_end": 166.51476359999998,
            "count": 0
           },
           {
            "bin_start": 166.51476359999998,
            "bin_end": 167.8484048,
            "count": 0
           },
           {
            "bin_start": 167.8484048,
            "bin_end": 169.182046,
            "count": 0
           },
           {
            "bin_start": 169.182046,
            "bin_end": 170.5156872,
            "count": 0
           },
           {
            "bin_start": 170.5156872,
            "bin_end": 171.8493284,
            "count": 1
           },
           {
            "bin_start": 171.8493284,
            "bin_end": 173.1829696,
            "count": 0
           },
           {
            "bin_start": 173.1829696,
            "bin_end": 174.51661080000002,
            "count": 0
           },
           {
            "bin_start": 174.51661080000002,
            "bin_end": 175.850252,
            "count": 1
           }
          ]
         }
        },
        {
         "name": "koi_time0bk_err1",
         "dtype": "float64",
         "stats": {
          "unique_count": 3,
          "nan_count": 0,
          "min": "0.000581",
          "max": "0.00352",
          "histogram": [
           {
            "bin_start": 0.000581,
            "bin_end": 0.0008749000000000001,
            "count": 1
           },
           {
            "bin_start": 0.0008749000000000001,
            "bin_end": 0.0011688000000000002,
            "count": 0
           },
           {
            "bin_start": 0.0011688000000000002,
            "bin_end": 0.0014627000000000002,
            "count": 0
           },
           {
            "bin_start": 0.0014627000000000002,
            "bin_end": 0.0017566,
            "count": 0
           },
           {
            "bin_start": 0.0017566,
            "bin_end": 0.0020505000000000002,
            "count": 0
           },
           {
            "bin_start": 0.0020505000000000002,
            "bin_end": 0.0023444000000000004,
            "count": 1
           },
           {
            "bin_start": 0.0023444000000000004,
            "bin_end": 0.0026383,
            "count": 0
           },
           {
            "bin_start": 0.0026383,
            "bin_end": 0.0029322000000000003,
            "count": 0
           },
           {
            "bin_start": 0.0029322000000000003,
            "bin_end": 0.0032261000000000004,
            "count": 0
           },
           {
            "bin_start": 0.0032261000000000004,
            "bin_end": 0.00352,
            "count": 1
           }
          ]
         }
        },
        {
         "name": "koi_time0bk_err2",
         "dtype": "float64",
         "stats": {
          "unique_count": 3,
          "nan_count": 0,
          "min": "-0.00352",
          "max": "-0.000581",
          "histogram": [
           {
            "bin_start": -0.00352,
            "bin_end": -0.0032261,
            "count": 1
           },
           {
            "bin_start": -0.0032261,
            "bin_end": -0.0029322000000000003,
            "count": 0
           },
           {
            "bin_start": -0.0029322000000000003,
            "bin_end": -0.0026383,
            "count": 0
           },
           {
            "bin_start": -0.0026383,
            "bin_end": -0.0023444,
            "count": 0
           },
           {
            "bin_start": -0.0023444,
            "bin_end": -0.0020505,
            "count": 1
           },
           {
            "bin_start": -0.0020505,
            "bin_end": -0.0017565999999999999,
            "count": 0
           },
           {
            "bin_start": -0.0017565999999999999,
            "bin_end": -0.0014627,
            "count": 0
           },
           {
            "bin_start": -0.0014627,
            "bin_end": -0.0011687999999999998,
            "count": 0
           },
           {
            "bin_start": -0.0011687999999999998,
            "bin_end": -0.0008748999999999996,
            "count": 0
           },
           {
            "bin_start": -0.0008748999999999996,
            "bin_end": -0.000581,
            "count": 1
           }
          ]
         }
        },
        {
         "name": "koi_impact",
         "dtype": "float64",
         "stats": {
          "unique_count": 3,
          "nan_count": 0,
          "min": "0.146",
          "max": "0.969",
          "histogram": [
           {
            "bin_start": 0.146,
            "bin_end": 0.2283,
            "count": 1
           },
           {
            "bin_start": 0.2283,
            "bin_end": 0.3106,
            "count": 0
           },
           {
            "bin_start": 0.3106,
            "bin_end": 0.3929,
            "count": 0
           },
           {
            "bin_start": 0.3929,
            "bin_end": 0.47519999999999996,
            "count": 0
           },
           {
            "bin_start": 0.47519999999999996,
            "bin_end": 0.5575,
            "count": 0
           },
           {
            "bin_start": 0.5575,
            "bin_end": 0.6398,
            "count": 1
           },
           {
            "bin_start": 0.6398,
            "bin_end": 0.7221,
            "count": 0
           },
           {
            "bin_start": 0.7221,
            "bin_end": 0.8044,
            "count": 0
           },
           {
            "bin_start": 0.8044,
            "bin_end": 0.8867,
            "count": 0
           },
           {
            "bin_start": 0.8867,
            "bin_end": 0.969,
            "count": 1
           }
          ]
         }
        },
        {
         "name": "koi_impact_err1",
         "dtype": "float64",
         "stats": {
          "unique_count": 3,
          "nan_count": 0,
          "min": "0.059",
          "max": "5.126",
          "histogram": [
           {
            "bin_start": 0.059,
            "bin_end": 0.5657000000000001,
            "count": 2
           },
           {
            "bin_start": 0.5657000000000001,
            "bin_end": 1.0724,
            "count": 0
           },
           {
            "bin_start": 1.0724,
            "bin_end": 1.5791000000000002,
            "count": 0
           },
           {
            "bin_start": 1.5791000000000002,
            "bin_end": 2.0858000000000003,
            "count": 0
           },
           {
            "bin_start": 2.0858000000000003,
            "bin_end": 2.5925000000000002,
            "count": 0
           },
           {
            "bin_start": 2.5925000000000002,
            "bin_end": 3.0992000000000006,
            "count": 0
           },
           {
            "bin_start": 3.0992000000000006,
            "bin_end": 3.6059000000000005,
            "count": 0
           },
           {
            "bin_start": 3.6059000000000005,
            "bin_end": 4.1126000000000005,
            "count": 0
           },
           {
            "bin_start": 4.1126000000000005,
            "bin_end": 4.619300000000001,
            "count": 0
           },
           {
            "bin_start": 4.619300000000001,
            "bin_end": 5.126,
            "count": 1
           }
          ]
         }
        },
        {
         "name": "koi_impact_err2",
         "dtype": "float64",
         "stats": {
          "unique_count": 3,
          "nan_count": 0,
          "min": "-0.443",
          "max": "-0.077",
          "histogram": [
           {
            "bin_start": -0.443,
            "bin_end": -0.4064,
            "count": 1
           },
           {
            "bin_start": -0.4064,
            "bin_end": -0.3698,
            "count": 0
           },
           {
            "bin_start": -0.3698,
            "bin_end": -0.3332,
            "count": 0
           },
           {
            "bin_start": -0.3332,
            "bin_end": -0.2966,
            "count": 0
           },
           {
            "bin_start": -0.2966,
            "bin_end": -0.26,
            "count": 0
           },
           {
            "bin_start": -0.26,
            "bin_end": -0.2234,
            "count": 0
           },
           {
            "bin_start": -0.2234,
            "bin_end": -0.18680000000000002,
            "count": 0
           },
           {
            "bin_start": -0.18680000000000002,
            "bin_end": -0.1502,
            "count": 0
           },
           {
            "bin_start": -0.1502,
            "bin_end": -0.11359999999999998,
            "count": 1
           },
           {
            "bin_start": -0.11359999999999998,
            "bin_end": -0.077,
            "count": 1
           }
          ]
         }
        },
        {
         "name": "koi_duration",
         "dtype": "float64",
         "stats": {
          "unique_count": 3,
          "nan_count": 0,
          "min": "1.7822",
          "max": "4.507",
          "histogram": [
           {
            "bin_start": 1.7822,
            "bin_end": 2.05468,
            "count": 1
           },
           {
            "bin_start": 2.05468,
            "bin_end": 2.32716,
            "count": 0
           },
           {
            "bin_start": 2.32716,
            "bin_end": 2.59964,
            "count": 0
           },
           {
            "bin_start": 2.59964,
            "bin_end": 2.87212,
            "count": 0
           },
           {
            "bin_start": 2.87212,
            "bin_end": 3.1445999999999996,
            "count": 1
           },
           {
            "bin_start": 3.1445999999999996,
            "bin_end": 3.4170799999999995,
            "count": 0
           },
           {
            "bin_start": 3.4170799999999995,
            "bin_end": 3.6895599999999997,
            "count": 0
           },
           {
            "bin_start": 3.6895599999999997,
            "bin_end": 3.9620399999999996,
            "count": 0
           },
           {
            "bin_start": 3.9620399999999996,
            "bin_end": 4.23452,
            "count": 0
           },
           {
            "bin_start": 4.23452,
            "bin_end": 4.507,
            "count": 1
           }
          ]
         }
        },
        {
         "name": "koi_duration_err1",
         "dtype": "float64",
         "stats": {
          "unique_count": 3,
          "nan_count": 0,
          "min": "0.0341",
          "max": "0.116",
          "histogram": [
           {
            "bin_start": 0.0341,
            "bin_end": 0.042289999999999994,
            "count": 1
           },
           {
            "bin_start": 0.042289999999999994,
            "bin_end": 0.05048,
            "count": 0
           },
           {
            "bin_start": 0.05048,
            "bin_end": 0.05867,
            "count": 0
           },
           {
            "bin_start": 0.05867,
            "bin_end": 0.06686,
            "count": 0
           },
           {
            "bin_start": 0.06686,
            "bin_end": 0.07505,
            "count": 0
           },
           {
            "bin_start": 0.07505,
            "bin_end": 0.08324,
            "count": 1
           },
           {
            "bin_start": 0.08324,
            "bin_end": 0.09142999999999998,
            "count": 0
           },
           {
            "bin_start": 0.09142999999999998,
            "bin_end": 0.09961999999999999,
            "count": 0
           },
           {
            "bin_start": 0.09961999999999999,
            "bin_end": 0.10780999999999999,
            "count": 0
           },
           {
            "bin_start": 0.10780999999999999,
            "bin_end": 0.116,
            "count": 1
           }
          ]
         }
        },
        {
         "name": "koi_duration_err2",
         "dtype": "float64",
         "stats": {
          "unique_count": 3,
          "nan_count": 0,
          "min": "-0.116",
          "max": "-0.0341",
          "histogram": [
           {
            "bin_start": -0.116,
            "bin_end": -0.10781,
            "count": 1
           },
           {
            "bin_start": -0.10781,
            "bin_end": -0.09962000000000001,
            "count": 0
           },
           {
            "bin_start": -0.09962000000000001,
            "bin_end": -0.09143000000000001,
            "count": 0
           },
           {
            "bin_start": -0.09143000000000001,
            "bin_end": -0.08324000000000001,
            "count": 0
           },
           {
            "bin_start": -0.08324000000000001,
            "bin_end": -0.07505,
            "count": 1
           },
           {
            "bin_start": -0.07505,
            "bin_end": -0.06686,
            "count": 0
           },
           {
            "bin_start": -0.06686,
            "bin_end": -0.058670000000000014,
            "count": 0
           },
           {
            "bin_start": -0.058670000000000014,
            "bin_end": -0.05048000000000001,
            "count": 0
           },
           {
            "bin_start": -0.05048000000000001,
            "bin_end": -0.04229000000000001,
            "count": 0
           },
           {
            "bin_start": -0.04229000000000001,
            "bin_end": -0.0341,
            "count": 1
           }
          ]
         }
        },
        {
         "name": "koi_depth",
         "dtype": "float64",
         "stats": {
          "unique_count": 3,
          "nan_count": 0,
          "min": "615.8",
          "max": "10829.0",
          "histogram": [
           {
            "bin_start": 615.8,
            "bin_end": 1637.12,
            "count": 2
           },
           {
            "bin_start": 1637.12,
            "bin_end": 2658.44,
            "count": 0
           },
           {
            "bin_start": 2658.44,
            "bin_end": 3679.76,
            "count": 0
           },
           {
            "bin_start": 3679.76,
            "bin_end": 4701.08,
            "count": 0
           },
           {
            "bin_start": 4701.08,
            "bin_end": 5722.400000000001,
            "count": 0
           },
           {
            "bin_start": 5722.400000000001,
            "bin_end": 6743.72,
            "count": 0
           },
           {
            "bin_start": 6743.72,
            "bin_end": 7765.040000000001,
            "count": 0
           },
           {
            "bin_start": 7765.040000000001,
            "bin_end": 8786.36,
            "count": 0
           },
           {
            "bin_start": 8786.36,
            "bin_end": 9807.68,
            "count": 0
           },
           {
            "bin_start": 9807.68,
            "bin_end": 10829,
            "count": 1
           }
          ]
         }
        },
        {
         "name": "koi_depth_err1",
         "dtype": "float64",
         "stats": {
          "unique_count": 3,
          "nan_count": 0,
          "min": "19.5",
          "max": "171.0",
          "histogram": [
           {
            "bin_start": 19.5,
            "bin_end": 34.65,
            "count": 1
           },
           {
            "bin_start": 34.65,
            "bin_end": 49.8,
            "count": 1
           },
           {
            "bin_start": 49.8,
            "bin_end": 64.95,
            "count": 0
           },
           {
            "bin_start": 64.95,
            "bin_end": 80.1,
            "count": 0
           },
           {
            "bin_start": 80.1,
            "bin_end": 95.25,
            "count": 0
           },
           {
            "bin_start": 95.25,
            "bin_end": 110.4,
            "count": 0
           },
           {
            "bin_start": 110.4,
            "bin_end": 125.55,
            "count": 0
           },
           {
            "bin_start": 125.55,
            "bin_end": 140.7,
            "count": 0
           },
           {
            "bin_start": 140.7,
            "bin_end": 155.85,
            "count": 0
           },
           {
            "bin_start": 155.85,
            "bin_end": 171,
            "count": 1
           }
          ]
         }
        },
        {
         "name": "koi_depth_err2",
         "dtype": "float64",
         "stats": {
          "unique_count": 3,
          "nan_count": 0,
          "min": "-171.0",
          "max": "-19.5",
          "histogram": [
           {
            "bin_start": -171,
            "bin_end": -155.85,
            "count": 1
           },
           {
            "bin_start": -155.85,
            "bin_end": -140.7,
            "count": 0
           },
           {
            "bin_start": -140.7,
            "bin_end": -125.55,
            "count": 0
           },
           {
            "bin_start": -125.55,
            "bin_end": -110.4,
            "count": 0
           },
           {
            "bin_start": -110.4,
            "bin_end": -95.25,
            "count": 0
           },
           {
            "bin_start": -95.25,
            "bin_end": -80.1,
            "count": 0
           },
           {
            "bin_start": -80.1,
            "bin_end": -64.95,
            "count": 0
           },
           {
            "bin_start": -64.95,
            "bin_end": -49.8,
            "count": 0
           },
           {
            "bin_start": -49.8,
            "bin_end": -34.650000000000006,
            "count": 1
           },
           {
            "bin_start": -34.650000000000006,
            "bin_end": -19.5,
            "count": 1
           }
          ]
         }
        },
        {
         "name": "koi_prad",
         "dtype": "float64",
         "stats": {
          "unique_count": 3,
          "nan_count": 0,
          "min": "2.26",
          "max": "14.6",
          "histogram": [
           {
            "bin_start": 2.26,
            "bin_end": 3.4939999999999998,
            "count": 2
           },
           {
            "bin_start": 3.4939999999999998,
            "bin_end": 4.728,
            "count": 0
           },
           {
            "bin_start": 4.728,
            "bin_end": 5.962,
            "count": 0
           },
           {
            "bin_start": 5.962,
            "bin_end": 7.196,
            "count": 0
           },
           {
            "bin_start": 7.196,
            "bin_end": 8.43,
            "count": 0
           },
           {
            "bin_start": 8.43,
            "bin_end": 9.664,
            "count": 0
           },
           {
            "bin_start": 9.664,
            "bin_end": 10.898,
            "count": 0
           },
           {
            "bin_start": 10.898,
            "bin_end": 12.132,
            "count": 0
           },
           {
            "bin_start": 12.132,
            "bin_end": 13.366,
            "count": 0
           },
           {
            "bin_start": 13.366,
            "bin_end": 14.6,
            "count": 1
           }
          ]
         }
        },
        {
         "name": "koi_prad_err1",
         "dtype": "float64",
         "stats": {
          "unique_count": 3,
          "nan_count": 0,
          "min": "0.26",
          "max": "3.92",
          "histogram": [
           {
            "bin_start": 0.26,
            "bin_end": 0.626,
            "count": 2
           },
           {
            "bin_start": 0.626,
            "bin_end": 0.992,
            "count": 0
           },
           {
            "bin_start": 0.992,
            "bin_end": 1.3579999999999999,
            "count": 0
           },
           {
            "bin_start": 1.3579999999999999,
            "bin_end": 1.724,
            "count": 0
           },
           {
            "bin_start": 1.724,
            "bin_end": 2.09,
            "count": 0
           },
           {
            "bin_start": 2.09,
            "bin_end": 2.4559999999999995,
            "count": 0
           },
           {
            "bin_start": 2.4559999999999995,
            "bin_end": 2.822,
            "count": 0
           },
           {
            "bin_start": 2.822,
            "bin_end": 3.1879999999999997,
            "count": 0
           },
           {
            "bin_start": 3.1879999999999997,
            "bin_end": 3.5540000000000003,
            "count": 0
           },
           {
            "bin_start": 3.5540000000000003,
            "bin_end": 3.92,
            "count": 1
           }
          ]
         }
        },
        {
         "name": "koi_prad_err2",
         "dtype": "float64",
         "stats": {
          "unique_count": 3,
          "nan_count": 0,
          "min": "-1.31",
          "max": "-0.15",
          "histogram": [
           {
            "bin_start": -1.31,
            "bin_end": -1.194,
            "count": 1
           },
           {
            "bin_start": -1.194,
            "bin_end": -1.078,
            "count": 0
           },
           {
            "bin_start": -1.078,
            "bin_end": -0.962,
            "count": 0
           },
           {
            "bin_start": -0.962,
            "bin_end": -0.846,
            "count": 0
           },
           {
            "bin_start": -0.846,
            "bin_end": -0.73,
            "count": 0
           },
           {
            "bin_start": -0.73,
            "bin_end": -0.6139999999999999,
            "count": 0
           },
           {
            "bin_start": -0.6139999999999999,
            "bin_end": -0.4979999999999999,
            "count": 0
           },
           {
            "bin_start": -0.4979999999999999,
            "bin_end": -0.3819999999999999,
            "count": 0
           },
           {
            "bin_start": -0.3819999999999999,
            "bin_end": -0.2659999999999998,
            "count": 0
           },
           {
            "bin_start": -0.2659999999999998,
            "bin_end": -0.15,
            "count": 2
           }
          ]
         }
        },
        {
         "name": "koi_teq",
         "dtype": "float64",
         "stats": {
          "unique_count": 3,
          "nan_count": 0,
          "min": "443.0",
          "max": "793.0",
          "histogram": [
           {
            "bin_start": 443,
            "bin_end": 478,
            "count": 1
           },
           {
            "bin_start": 478,
            "bin_end": 513,
            "count": 0
           },
           {
            "bin_start": 513,
            "bin_end": 548,
            "count": 0
           },
           {
            "bin_start": 548,
            "bin_end": 583,
            "count": 0
           },
           {
            "bin_start": 583,
            "bin_end": 618,
            "count": 0
           },
           {
            "bin_start": 618,
            "bin_end": 653,
            "count": 1
           },
           {
            "bin_start": 653,
            "bin_end": 688,
            "count": 0
           },
           {
            "bin_start": 688,
            "bin_end": 723,
            "count": 0
           },
           {
            "bin_start": 723,
            "bin_end": 758,
            "count": 0
           },
           {
            "bin_start": 758,
            "bin_end": 793,
            "count": 1
           }
          ]
         }
        },
        {
         "name": "koi_teq_err1",
         "dtype": "float64",
         "stats": {
          "unique_count": 0,
          "nan_count": 3,
          "min": null,
          "max": null,
          "histogram": [
           {
            "bin_start": 0,
            "bin_end": 0.1,
            "count": 0
           },
           {
            "bin_start": 0.1,
            "bin_end": 0.2,
            "count": 0
           },
           {
            "bin_start": 0.2,
            "bin_end": 0.30000000000000004,
            "count": 0
           },
           {
            "bin_start": 0.30000000000000004,
            "bin_end": 0.4,
            "count": 0
           },
           {
            "bin_start": 0.4,
            "bin_end": 0.5,
            "count": 0
           },
           {
            "bin_start": 0.5,
            "bin_end": 0.6000000000000001,
            "count": 0
           },
           {
            "bin_start": 0.6000000000000001,
            "bin_end": 0.7000000000000001,
            "count": 0
           },
           {
            "bin_start": 0.7000000000000001,
            "bin_end": 0.8,
            "count": 0
           },
           {
            "bin_start": 0.8,
            "bin_end": 0.9,
            "count": 0
           },
           {
            "bin_start": 0.9,
            "bin_end": 1,
            "count": 0
           }
          ]
         }
        },
        {
         "name": "koi_teq_err2",
         "dtype": "float64",
         "stats": {
          "unique_count": 0,
          "nan_count": 3,
          "min": null,
          "max": null,
          "histogram": [
           {
            "bin_start": 0,
            "bin_end": 0.1,
            "count": 0
           },
           {
            "bin_start": 0.1,
            "bin_end": 0.2,
            "count": 0
           },
           {
            "bin_start": 0.2,
            "bin_end": 0.30000000000000004,
            "count": 0
           },
           {
            "bin_start": 0.30000000000000004,
            "bin_end": 0.4,
            "count": 0
           },
           {
            "bin_start": 0.4,
            "bin_end": 0.5,
            "count": 0
           },
           {
            "bin_start": 0.5,
            "bin_end": 0.6000000000000001,
            "count": 0
           },
           {
            "bin_start": 0.6000000000000001,
            "bin_end": 0.7000000000000001,
            "count": 0
           },
           {
            "bin_start": 0.7000000000000001,
            "bin_end": 0.8,
            "count": 0
           },
           {
            "bin_start": 0.8,
            "bin_end": 0.9,
            "count": 0
           },
           {
            "bin_start": 0.9,
            "bin_end": 1,
            "count": 0
           }
          ]
         }
        },
        {
         "name": "koi_insol",
         "dtype": "float64",
         "stats": {
          "unique_count": 3,
          "nan_count": 0,
          "min": "9.11",
          "max": "93.59",
          "histogram": [
           {
            "bin_start": 9.11,
            "bin_end": 17.558,
            "count": 1
           },
           {
            "bin_start": 17.558,
            "bin_end": 26.006,
            "count": 0
           },
           {
            "bin_start": 26.006,
            "bin_end": 34.454,
            "count": 0
           },
           {
            "bin_start": 34.454,
            "bin_end": 42.902,
            "count": 1
           },
           {
            "bin_start": 42.902,
            "bin_end": 51.35,
            "count": 0
           },
           {
            "bin_start": 51.35,
            "bin_end": 59.798,
            "count": 0
           },
           {
            "bin_start": 59.798,
            "bin_end": 68.24600000000001,
            "count": 0
           },
           {
            "bin_start": 68.24600000000001,
            "bin_end": 76.694,
            "count": 0
           },
           {
            "bin_start": 76.694,
            "bin_end": 85.14200000000001,
            "count": 0
           },
           {
            "bin_start": 85.14200000000001,
            "bin_end": 93.59,
            "count": 1
           }
          ]
         }
        },
        {
         "name": "koi_insol_err1",
         "dtype": "float64",
         "stats": {
          "unique_count": 3,
          "nan_count": 0,
          "min": "2.87",
          "max": "31.04",
          "histogram": [
           {
            "bin_start": 2.87,
            "bin_end": 5.686999999999999,
            "count": 1
           },
           {
            "bin_start": 5.686999999999999,
            "bin_end": 8.504,
            "count": 0
           },
           {
            "bin_start": 8.504,
            "bin_end": 11.320999999999998,
            "count": 0
           },
           {
            "bin_start": 11.320999999999998,
            "bin_end": 14.137999999999998,
            "count": 0
           },
           {
            "bin_start": 14.137999999999998,
            "bin_end": 16.955,
            "count": 0
           },
           {
            "bin_start": 16.955,
            "bin_end": 19.772,
            "count": 0
           },
           {
            "bin_start": 19.772,
            "bin_end": 22.589,
            "count": 0
           },
           {
            "bin_start": 22.589,
            "bin_end": 25.406,
            "count": 0
           },
           {
            "bin_start": 25.406,
            "bin_end": 28.223,
            "count": 0
           },
           {
            "bin_start": 28.223,
            "bin_end": 31.04,
            "count": 2
           }
          ]
         }
        },
        {
         "name": "koi_insol_err2",
         "dtype": "float64",
         "stats": {
          "unique_count": 3,
          "nan_count": 0,
          "min": "-16.65",
          "max": "-1.62",
          "histogram": [
           {
            "bin_start": -16.65,
            "bin_end": -15.146999999999998,
            "count": 1
           },
           {
            "bin_start": -15.146999999999998,
            "bin_end": -13.643999999999998,
            "count": 0
           },
           {
            "bin_start": -13.643999999999998,
            "bin_end": -12.141,
            "count": 0
           },
           {
            "bin_start": -12.141,
            "bin_end": -10.638,
            "count": 0
           },
           {
            "bin_start": -10.638,
            "bin_end": -9.135,
            "count": 1
           },
           {
            "bin_start": -9.135,
            "bin_end": -7.6320000000000014,
            "count": 0
           },
           {
            "bin_start": -7.6320000000000014,
            "bin_end": -6.129000000000001,
            "count": 0
           },
           {
            "bin_start": -6.129000000000001,
            "bin_end": -4.626000000000001,
            "count": 0
           },
           {
            "bin_start": -4.626000000000001,
            "bin_end": -3.123000000000001,
            "count": 0
           },
           {
            "bin_start": -3.123000000000001,
            "bin_end": -1.62,
            "count": 1
           }
          ]
         }
        },
        {
         "name": "koi_model_snr",
         "dtype": "float64",
         "stats": {
          "unique_count": 3,
          "nan_count": 0,
          "min": "25.8",
          "max": "76.3",
          "histogram": [
           {
            "bin_start": 25.8,
            "bin_end": 30.85,
            "count": 1
           },
           {
            "bin_start": 30.85,
            "bin_end": 35.9,
            "count": 1
           },
           {
            "bin_start": 35.9,
            "bin_end": 40.95,
            "count": 0
           },
           {
            "bin_start": 40.95,
            "bin_end": 46,
            "count": 0
           },
           {
            "bin_start": 46,
            "bin_end": 51.05,
            "count": 0
           },
           {
            "bin_start": 51.05,
            "bin_end": 56.099999999999994,
            "count": 0
           },
           {
            "bin_start": 56.099999999999994,
            "bin_end": 61.150000000000006,
            "count": 0
           },
           {
            "bin_start": 61.150000000000006,
            "bin_end": 66.2,
            "count": 0
           },
           {
            "bin_start": 66.2,
            "bin_end": 71.25,
            "count": 0
           },
           {
            "bin_start": 71.25,
            "bin_end": 76.3,
            "count": 1
           }
          ]
         }
        },
        {
         "name": "koi_tce_plnt_num",
         "dtype": "float64",
         "stats": {
          "unique_count": 2,
          "nan_count": 0,
          "min": "1.0",
          "max": "2.0",
          "histogram": [
           {
            "bin_start": 1,
            "bin_end": 1.1,
            "count": 2
           },
           {
            "bin_start": 1.1,
            "bin_end": 1.2,
            "count": 0
           },
           {
            "bin_start": 1.2,
            "bin_end": 1.3,
            "count": 0
           },
           {
            "bin_start": 1.3,
            "bin_end": 1.4,
            "count": 0
           },
           {
            "bin_start": 1.4,
            "bin_end": 1.5,
            "count": 0
           },
           {
            "bin_start": 1.5,
            "bin_end": 1.6,
            "count": 0
           },
           {
            "bin_start": 1.6,
            "bin_end": 1.7000000000000002,
            "count": 0
           },
           {
            "bin_start": 1.7000000000000002,
            "bin_end": 1.8,
            "count": 0
           },
           {
            "bin_start": 1.8,
            "bin_end": 1.9,
            "count": 0
           },
           {
            "bin_start": 1.9,
            "bin_end": 2,
            "count": 1
           }
          ]
         }
        },
        {
         "name": "koi_tce_delivname",
         "dtype": "object",
         "stats": {
          "unique_count": 1,
          "nan_count": 0,
          "categories": [
           {
            "name": "q1_q17_dr25_tce",
            "count": 3
           }
          ]
         }
        },
        {
         "name": "koi_steff",
         "dtype": "float64",
         "stats": {
          "unique_count": 2,
          "nan_count": 0,
          "min": "5455.0",
          "max": "5853.0",
          "histogram": [
           {
            "bin_start": 5455,
            "bin_end": 5494.8,
            "count": 2
           },
           {
            "bin_start": 5494.8,
            "bin_end": 5534.6,
            "count": 0
           },
           {
            "bin_start": 5534.6,
            "bin_end": 5574.4,
            "count": 0
           },
           {
            "bin_start": 5574.4,
            "bin_end": 5614.2,
            "count": 0
           },
           {
            "bin_start": 5614.2,
            "bin_end": 5654,
            "count": 0
           },
           {
            "bin_start": 5654,
            "bin_end": 5693.8,
            "count": 0
           },
           {
            "bin_start": 5693.8,
            "bin_end": 5733.6,
            "count": 0
           },
           {
            "bin_start": 5733.6,
            "bin_end": 5773.4,
            "count": 0
           },
           {
            "bin_start": 5773.4,
            "bin_end": 5813.2,
            "count": 0
           },
           {
            "bin_start": 5813.2,
            "bin_end": 5853,
            "count": 1
           }
          ]
         }
        },
        {
         "name": "koi_steff_err1",
         "dtype": "float64",
         "stats": {
          "unique_count": 2,
          "nan_count": 0,
          "min": "81.0",
          "max": "158.0",
          "histogram": [
           {
            "bin_start": 81,
            "bin_end": 88.7,
            "count": 2
           },
           {
            "bin_start": 88.7,
            "bin_end": 96.4,
            "count": 0
           },
           {
            "bin_start": 96.4,
            "bin_end": 104.1,
            "count": 0
           },
           {
            "bin_start": 104.1,
            "bin_end": 111.8,
            "count": 0
           },
           {
            "bin_start": 111.8,
            "bin_end": 119.5,
            "count": 0
           },
           {
            "bin_start": 119.5,
            "bin_end": 127.2,
            "count": 0
           },
           {
            "bin_start": 127.2,
            "bin_end": 134.9,
            "count": 0
           },
           {
            "bin_start": 134.9,
            "bin_end": 142.6,
            "count": 0
           },
           {
            "bin_start": 142.6,
            "bin_end": 150.3,
            "count": 0
           },
           {
            "bin_start": 150.3,
            "bin_end": 158,
            "count": 1
           }
          ]
         }
        },
        {
         "name": "koi_steff_err2",
         "dtype": "float64",
         "stats": {
          "unique_count": 2,
          "nan_count": 0,
          "min": "-176.0",
          "max": "-81.0",
          "histogram": [
           {
            "bin_start": -176,
            "bin_end": -166.5,
            "count": 1
           },
           {
            "bin_start": -166.5,
            "bin_end": -157,
            "count": 0
           },
           {
            "bin_start": -157,
            "bin_end": -147.5,
            "count": 0
           },
           {
            "bin_start": -147.5,
            "bin_end": -138,
            "count": 0
           },
           {
            "bin_start": -138,
            "bin_end": -128.5,
            "count": 0
           },
           {
            "bin_start": -128.5,
            "bin_end": -119,
            "count": 0
           },
           {
            "bin_start": -119,
            "bin_end": -109.5,
            "count": 0
           },
           {
            "bin_start": -109.5,
            "bin_end": -100,
            "count": 0
           },
           {
            "bin_start": -100,
            "bin_end": -90.5,
            "count": 0
           },
           {
            "bin_start": -90.5,
            "bin_end": -81,
            "count": 2
           }
          ]
         }
        },
        {
         "name": "koi_slogg",
         "dtype": "float64",
         "stats": {
          "unique_count": 2,
          "nan_count": 0,
          "min": "4.467",
          "max": "4.544",
          "histogram": [
           {
            "bin_start": 4.467,
            "bin_end": 4.4746999999999995,
            "count": 2
           },
           {
            "bin_start": 4.4746999999999995,
            "bin_end": 4.482399999999999,
            "count": 0
           },
           {
            "bin_start": 4.482399999999999,
            "bin_end": 4.4901,
            "count": 0
           },
           {
            "bin_start": 4.4901,
            "bin_end": 4.4978,
            "count": 0
           },
           {
            "bin_start": 4.4978,
            "bin_end": 4.5055,
            "count": 0
           },
           {
            "bin_start": 4.5055,
            "bin_end": 4.513199999999999,
            "count": 0
           },
           {
            "bin_start": 4.513199999999999,
            "bin_end": 4.520899999999999,
            "count": 0
           },
           {
            "bin_start": 4.520899999999999,
            "bin_end": 4.5286,
            "count": 0
           },
           {
            "bin_start": 4.5286,
            "bin_end": 4.5363,
            "count": 0
           },
           {
            "bin_start": 4.5363,
            "bin_end": 4.544,
            "count": 1
           }
          ]
         }
        },
        {
         "name": "koi_slogg_err1",
         "dtype": "float64",
         "stats": {
          "unique_count": 2,
          "nan_count": 0,
          "min": "0.044",
          "max": "0.064",
          "histogram": [
           {
            "bin_start": 0.044,
            "bin_end": 0.046,
            "count": 1
           },
           {
            "bin_start": 0.046,
            "bin_end": 0.048,
            "count": 0
           },
           {
            "bin_start": 0.048,
            "bin_end": 0.05,
            "count": 0
           },
           {
            "bin_start": 0.05,
            "bin_end": 0.052,
            "count": 0
           },
           {
            "bin_start": 0.052,
            "bin_end": 0.054,
            "count": 0
           },
           {
            "bin_start": 0.054,
            "bin_end": 0.056,
            "count": 0
           },
           {
            "bin_start": 0.056,
            "bin_end": 0.058,
            "count": 0
           },
           {
            "bin_start": 0.058,
            "bin_end": 0.06,
            "count": 0
           },
           {
            "bin_start": 0.06,
            "bin_end": 0.062,
            "count": 0
           },
           {
            "bin_start": 0.062,
            "bin_end": 0.064,
            "count": 2
           }
          ]
         }
        },
        {
         "name": "koi_slogg_err2",
         "dtype": "float64",
         "stats": {
          "unique_count": 2,
          "nan_count": 0,
          "min": "-0.176",
          "max": "-0.096",
          "histogram": [
           {
            "bin_start": -0.176,
            "bin_end": -0.16799999999999998,
            "count": 1
           },
           {
            "bin_start": -0.16799999999999998,
            "bin_end": -0.16,
            "count": 0
           },
           {
            "bin_start": -0.16,
            "bin_end": -0.152,
            "count": 0
           },
           {
            "bin_start": -0.152,
            "bin_end": -0.144,
            "count": 0
           },
           {
            "bin_start": -0.144,
            "bin_end": -0.136,
            "count": 0
           },
           {
            "bin_start": -0.136,
            "bin_end": -0.128,
            "count": 0
           },
           {
            "bin_start": -0.128,
            "bin_end": -0.12,
            "count": 0
           },
           {
            "bin_start": -0.12,
            "bin_end": -0.112,
            "count": 0
           },
           {
            "bin_start": -0.112,
            "bin_end": -0.10400000000000001,
            "count": 0
           },
           {
            "bin_start": -0.10400000000000001,
            "bin_end": -0.096,
            "count": 2
           }
          ]
         }
        },
        {
         "name": "koi_srad",
         "dtype": "float64",
         "stats": {
          "unique_count": 2,
          "nan_count": 0,
          "min": "0.868",
          "max": "0.927",
          "histogram": [
           {
            "bin_start": 0.868,
            "bin_end": 0.8739,
            "count": 1
           },
           {
            "bin_start": 0.8739,
            "bin_end": 0.8798,
            "count": 0
           },
           {
            "bin_start": 0.8798,
            "bin_end": 0.8857,
            "count": 0
           },
           {
            "bin_start": 0.8857,
            "bin_end": 0.8916000000000001,
            "count": 0
           },
           {
            "bin_start": 0.8916000000000001,
            "bin_end": 0.8975,
            "count": 0
           },
           {
            "bin_start": 0.8975,
            "bin_end": 0.9034,
            "count": 0
           },
           {
            "bin_start": 0.9034,
            "bin_end": 0.9093,
            "count": 0
           },
           {
            "bin_start": 0.9093,
            "bin_end": 0.9152,
            "count": 0
           },
           {
            "bin_start": 0.9152,
            "bin_end": 0.9211,
            "count": 0
           },
           {
            "bin_start": 0.9211,
            "bin_end": 0.927,
            "count": 2
           }
          ]
         }
        },
        {
         "name": "koi_srad_err1",
         "dtype": "float64",
         "stats": {
          "unique_count": 2,
          "nan_count": 0,
          "min": "0.105",
          "max": "0.233",
          "histogram": [
           {
            "bin_start": 0.105,
            "bin_end": 0.1178,
            "count": 2
           },
           {
            "bin_start": 0.1178,
            "bin_end": 0.1306,
            "count": 0
           },
           {
            "bin_start": 0.1306,
            "bin_end": 0.1434,
            "count": 0
           },
           {
            "bin_start": 0.1434,
            "bin_end": 0.1562,
            "count": 0
           },
           {
            "bin_start": 0.1562,
            "bin_end": 0.16899999999999998,
            "count": 0
           },
           {
            "bin_start": 0.16899999999999998,
            "bin_end": 0.18180000000000002,
            "count": 0
           },
           {
            "bin_start": 0.18180000000000002,
            "bin_end": 0.1946,
            "count": 0
           },
           {
            "bin_start": 0.1946,
            "bin_end": 0.2074,
            "count": 0
           },
           {
            "bin_start": 0.2074,
            "bin_end": 0.2202,
            "count": 0
           },
           {
            "bin_start": 0.2202,
            "bin_end": 0.233,
            "count": 1
           }
          ]
         }
        },
        {
         "name": "koi_srad_err2",
         "dtype": "float64",
         "stats": {
          "unique_count": 2,
          "nan_count": 0,
          "min": "-0.078",
          "max": "-0.061",
          "histogram": [
           {
            "bin_start": -0.078,
            "bin_end": -0.0763,
            "count": 1
           },
           {
            "bin_start": -0.0763,
            "bin_end": -0.0746,
            "count": 0
           },
           {
            "bin_start": -0.0746,
            "bin_end": -0.07289999999999999,
            "count": 0
           },
           {
            "bin_start": -0.07289999999999999,
            "bin_end": -0.0712,
            "count": 0
           },
           {
            "bin_start": -0.0712,
            "bin_end": -0.0695,
            "count": 0
           },
           {
            "bin_start": -0.0695,
            "bin_end": -0.0678,
            "count": 0
           },
           {
            "bin_start": -0.0678,
            "bin_end": -0.06609999999999999,
            "count": 0
           },
           {
            "bin_start": -0.06609999999999999,
            "bin_end": -0.0644,
            "count": 0
           },
           {
            "bin_start": -0.0644,
            "bin_end": -0.0627,
            "count": 0
           },
           {
            "bin_start": -0.0627,
            "bin_end": -0.061,
            "count": 2
           }
          ]
         }
        },
        {
         "name": "ra",
         "dtype": "float64",
         "stats": {
          "unique_count": 2,
          "nan_count": 0,
          "min": "291.93423",
          "max": "297.00482",
          "histogram": [
           {
            "bin_start": 291.93423,
            "bin_end": 292.441289,
            "count": 2
           },
           {
            "bin_start": 292.441289,
            "bin_end": 292.948348,
            "count": 0
           },
           {
            "bin_start": 292.948348,
            "bin_end": 293.45540700000004,
            "count": 0
           },
           {
            "bin_start": 293.45540700000004,
            "bin_end": 293.962466,
            "count": 0
           },
           {
            "bin_start": 293.962466,
            "bin_end": 294.469525,
            "count": 0
           },
           {
            "bin_start": 294.469525,
            "bin_end": 294.976584,
            "count": 0
           },
           {
            "bin_start": 294.976584,
            "bin_end": 295.48364300000003,
            "count": 0
           },
           {
            "bin_start": 295.48364300000003,
            "bin_end": 295.990702,
            "count": 0
           },
           {
            "bin_start": 295.990702,
            "bin_end": 296.49776099999997,
            "count": 0
           },
           {
            "bin_start": 296.49776099999997,
            "bin_end": 297.00482,
            "count": 1
           }
          ]
         }
        },
        {
         "name": "dec",
         "dtype": "float64",
         "stats": {
          "unique_count": 2,
          "nan_count": 0,
          "min": "48.134129",
          "max": "48.141651",
          "histogram": [
           {
            "bin_start": 48.134129,
            "bin_end": 48.1348812,
            "count": 1
           },
           {
            "bin_start": 48.1348812,
            "bin_end": 48.1356334,
            "count": 0
           },
           {
            "bin_start": 48.1356334,
            "bin_end": 48.136385600000004,
            "count": 0
           },
           {
            "bin_start": 48.136385600000004,
            "bin_end": 48.137137800000005,
            "count": 0
           },
           {
            "bin_start": 48.137137800000005,
            "bin_end": 48.13789,
            "count": 0
           },
           {
            "bin_start": 48.13789,
            "bin_end": 48.1386422,
            "count": 0
           },
           {
            "bin_start": 48.1386422,
            "bin_end": 48.1393944,
            "count": 0
           },
           {
            "bin_start": 48.1393944,
            "bin_end": 48.1401466,
            "count": 0
           },
           {
            "bin_start": 48.1401466,
            "bin_end": 48.1408988,
            "count": 0
           },
           {
            "bin_start": 48.1408988,
            "bin_end": 48.141651,
            "count": 2
           }
          ]
         }
        },
        {
         "name": "koi_kepmag",
         "dtype": "float64",
         "stats": {
          "unique_count": 2,
          "nan_count": 0,
          "min": "15.347",
          "max": "15.436",
          "histogram": [
           {
            "bin_start": 15.347,
            "bin_end": 15.3559,
            "count": 2
           },
           {
            "bin_start": 15.3559,
            "bin_end": 15.364799999999999,
            "count": 0
           },
           {
            "bin_start": 15.364799999999999,
            "bin_end": 15.3737,
            "count": 0
           },
           {
            "bin_start": 15.3737,
            "bin_end": 15.3826,
            "count": 0
           },
           {
            "bin_start": 15.3826,
            "bin_end": 15.3915,
            "count": 0
           },
           {
            "bin_start": 15.3915,
            "bin_end": 15.4004,
            "count": 0
           },
           {
            "bin_start": 15.4004,
            "bin_end": 15.4093,
            "count": 0
           },
           {
            "bin_start": 15.4093,
            "bin_end": 15.4182,
            "count": 0
           },
           {
            "bin_start": 15.4182,
            "bin_end": 15.4271,
            "count": 0
           },
           {
            "bin_start": 15.4271,
            "bin_end": 15.436,
            "count": 1
           }
          ]
         }
        },
        {
         "name": "_deepnote_index_column",
         "dtype": "int64"
        }
       ],
       "rows_top": [
        {
         "rowid": 1,
         "kepid": 10797460,
         "kepoi_name": "K00752.01",
         "kepler_name": "Kepler-227 b",
         "koi_disposition": "CONFIRMED",
         "koi_pdisposition": "CANDIDATE",
         "koi_score": 1,
         "koi_fpflag_nt": 0,
         "koi_fpflag_ss": 0,
         "koi_fpflag_co": 0,
         "koi_fpflag_ec": 0,
         "koi_period": 9.48803557,
         "koi_period_err1": 0.00002775,
         "koi_period_err2": -0.00002775,
         "koi_time0bk": 170.53875,
         "koi_time0bk_err1": 0.00216,
         "koi_time0bk_err2": -0.00216,
         "koi_impact": 0.146,
         "koi_impact_err1": 0.318,
         "koi_impact_err2": -0.146,
         "koi_duration": 2.9575,
         "koi_duration_err1": 0.0819,
         "koi_duration_err2": -0.0819,
         "koi_depth": 615.8,
         "koi_depth_err1": 19.5,
         "koi_depth_err2": -19.5,
         "koi_prad": 2.26,
         "koi_prad_err1": 0.26,
         "koi_prad_err2": -0.15,
         "koi_teq": 793,
         "koi_teq_err1": "nan",
         "koi_teq_err2": "nan",
         "koi_insol": 93.59,
         "koi_insol_err1": 29.45,
         "koi_insol_err2": -16.65,
         "koi_model_snr": 35.8,
         "koi_tce_plnt_num": 1,
         "koi_tce_delivname": "q1_q17_dr25_tce",
         "koi_steff": 5455,
         "koi_steff_err1": 81,
         "koi_steff_err2": -81,
         "koi_slogg": 4.467,
         "koi_slogg_err1": 0.064,
         "koi_slogg_err2": -0.096,
         "koi_srad": 0.927,
         "koi_srad_err1": 0.105,
         "koi_srad_err2": -0.061,
         "ra": 291.93423,
         "dec": 48.141651,
         "koi_kepmag": 15.347,
         "_deepnote_index_column": 0
        },
        {
         "rowid": 2,
         "kepid": 10797460,
         "kepoi_name": "K00752.02",
         "kepler_name": "Kepler-227 c",
         "koi_disposition": "CONFIRMED",
         "koi_pdisposition": "CANDIDATE",
         "koi_score": 0.969,
         "koi_fpflag_nt": 0,
         "koi_fpflag_ss": 0,
         "koi_fpflag_co": 0,
         "koi_fpflag_ec": 0,
         "koi_period": 54.4183827,
         "koi_period_err1": 0.0002479,
         "koi_period_err2": -0.0002479,
         "koi_time0bk": 162.51384,
         "koi_time0bk_err1": 0.00352,
         "koi_time0bk_err2": -0.00352,
         "koi_impact": 0.586,
         "koi_impact_err1": 0.059,
         "koi_impact_err2": -0.443,
         "koi_duration": 4.507,
         "koi_duration_err1": 0.116,
         "koi_duration_err2": -0.116,
         "koi_depth": 874.8,
         "koi_depth_err1": 35.5,
         "koi_depth_err2": -35.5,
         "koi_prad": 2.83,
         "koi_prad_err1": 0.32,
         "koi_prad_err2": -0.19,
         "koi_teq": 443,
         "koi_teq_err1": "nan",
         "koi_teq_err2": "nan",
         "koi_insol": 9.11,
         "koi_insol_err1": 2.87,
         "koi_insol_err2": -1.62,
         "koi_model_snr": 25.8,
         "koi_tce_plnt_num": 2,
         "koi_tce_delivname": "q1_q17_dr25_tce",
         "koi_steff": 5455,
         "koi_steff_err1": 81,
         "koi_steff_err2": -81,
         "koi_slogg": 4.467,
         "koi_slogg_err1": 0.064,
         "koi_slogg_err2": -0.096,
         "koi_srad": 0.927,
         "koi_srad_err1": 0.105,
         "koi_srad_err2": -0.061,
         "ra": 291.93423,
         "dec": 48.141651,
         "koi_kepmag": 15.347,
         "_deepnote_index_column": 1
        },
        {
         "rowid": 3,
         "kepid": 10811496,
         "kepoi_name": "K00753.01",
         "kepler_name": "nan",
         "koi_disposition": "FALSE POSITIVE",
         "koi_pdisposition": "FALSE POSITIVE",
         "koi_score": 0,
         "koi_fpflag_nt": 0,
         "koi_fpflag_ss": 1,
         "koi_fpflag_co": 0,
         "koi_fpflag_ec": 0,
         "koi_period": 19.89913995,
         "koi_period_err1": 0.00001494,
         "koi_period_err2": -0.00001494,
         "koi_time0bk": 175.850252,
         "koi_time0bk_err1": 0.000581,
         "koi_time0bk_err2": -0.000581,
         "koi_impact": 0.969,
         "koi_impact_err1": 5.126,
         "koi_impact_err2": -0.077,
         "koi_duration": 1.7822,
         "koi_duration_err1": 0.0341,
         "koi_duration_err2": -0.0341,
         "koi_depth": 10829,
         "koi_depth_err1": 171,
         "koi_depth_err2": -171,
         "koi_prad": 14.6,
         "koi_prad_err1": 3.92,
         "koi_prad_err2": -1.31,
         "koi_teq": 638,
         "koi_teq_err1": "nan",
         "koi_teq_err2": "nan",
         "koi_insol": 39.3,
         "koi_insol_err1": 31.04,
         "koi_insol_err2": -10.49,
         "koi_model_snr": 76.3,
         "koi_tce_plnt_num": 1,
         "koi_tce_delivname": "q1_q17_dr25_tce",
         "koi_steff": 5853,
         "koi_steff_err1": 158,
         "koi_steff_err2": -176,
         "koi_slogg": 4.544,
         "koi_slogg_err1": 0.044,
         "koi_slogg_err2": -0.176,
         "koi_srad": 0.868,
         "koi_srad_err1": 0.233,
         "koi_srad_err2": -0.078,
         "ra": 297.00482,
         "dec": 48.134129,
         "koi_kepmag": 15.436,
         "_deepnote_index_column": 2
        }
       ],
       "rows_bottom": null
      },
      "text/plain": "   rowid     kepid kepoi_name   kepler_name koi_disposition koi_pdisposition  \\\n0      1  10797460  K00752.01  Kepler-227 b       CONFIRMED        CANDIDATE   \n1      2  10797460  K00752.02  Kepler-227 c       CONFIRMED        CANDIDATE   \n2      3  10811496  K00753.01           NaN  FALSE POSITIVE   FALSE POSITIVE   \n\n   koi_score  koi_fpflag_nt  koi_fpflag_ss  koi_fpflag_co  ...  \\\n0      1.000              0              0              0  ...   \n1      0.969              0              0              0  ...   \n2      0.000              0              1              0  ...   \n\n   koi_steff_err2  koi_slogg  koi_slogg_err1  koi_slogg_err2  koi_srad  \\\n0           -81.0      4.467           0.064          -0.096     0.927   \n1           -81.0      4.467           0.064          -0.096     0.927   \n2          -176.0      4.544           0.044          -0.176     0.868   \n\n   koi_srad_err1  koi_srad_err2         ra        dec  koi_kepmag  \n0          0.105         -0.061  291.93423  48.141651      15.347  \n1          0.105         -0.061  291.93423  48.141651      15.347  \n2          0.233         -0.078  297.00482  48.134129      15.436  \n\n[3 rows x 50 columns]",
      "text/html": "<div>\n<style scoped>\n    .dataframe tbody tr th:only-of-type {\n        vertical-align: middle;\n    }\n\n    .dataframe tbody tr th {\n        vertical-align: top;\n    }\n\n    .dataframe thead th {\n        text-align: right;\n    }\n</style>\n<table border=\"1\" class=\"dataframe\">\n  <thead>\n    <tr style=\"text-align: right;\">\n      <th></th>\n      <th>rowid</th>\n      <th>kepid</th>\n      <th>kepoi_name</th>\n      <th>kepler_name</th>\n      <th>koi_disposition</th>\n      <th>koi_pdisposition</th>\n      <th>koi_score</th>\n      <th>koi_fpflag_nt</th>\n      <th>koi_fpflag_ss</th>\n      <th>koi_fpflag_co</th>\n      <th>...</th>\n      <th>koi_steff_err2</th>\n      <th>koi_slogg</th>\n      <th>koi_slogg_err1</th>\n      <th>koi_slogg_err2</th>\n      <th>koi_srad</th>\n      <th>koi_srad_err1</th>\n      <th>koi_srad_err2</th>\n      <th>ra</th>\n      <th>dec</th>\n      <th>koi_kepmag</th>\n    </tr>\n  </thead>\n  <tbody>\n    <tr>\n      <th>0</th>\n      <td>1</td>\n      <td>10797460</td>\n      <td>K00752.01</td>\n      <td>Kepler-227 b</td>\n      <td>CONFIRMED</td>\n      <td>CANDIDATE</td>\n      <td>1.000</td>\n      <td>0</td>\n      <td>0</td>\n      <td>0</td>\n      <td>...</td>\n      <td>-81.0</td>\n      <td>4.467</td>\n      <td>0.064</td>\n      <td>-0.096</td>\n      <td>0.927</td>\n      <td>0.105</td>\n      <td>-0.061</td>\n      <td>291.93423</td>\n      <td>48.141651</td>\n      <td>15.347</td>\n    </tr>\n    <tr>\n      <th>1</th>\n      <td>2</td>\n      <td>10797460</td>\n      <td>K00752.02</td>\n      <td>Kepler-227 c</td>\n      <td>CONFIRMED</td>\n      <td>CANDIDATE</td>\n      <td>0.969</td>\n      <td>0</td>\n      <td>0</td>\n      <td>0</td>\n      <td>...</td>\n      <td>-81.0</td>\n      <td>4.467</td>\n      <td>0.064</td>\n      <td>-0.096</td>\n      <td>0.927</td>\n      <td>0.105</td>\n      <td>-0.061</td>\n      <td>291.93423</td>\n      <td>48.141651</td>\n      <td>15.347</td>\n    </tr>\n    <tr>\n      <th>2</th>\n      <td>3</td>\n      <td>10811496</td>\n      <td>K00753.01</td>\n      <td>NaN</td>\n      <td>FALSE POSITIVE</td>\n      <td>FALSE POSITIVE</td>\n      <td>0.000</td>\n      <td>0</td>\n      <td>1</td>\n      <td>0</td>\n      <td>...</td>\n      <td>-176.0</td>\n      <td>4.544</td>\n      <td>0.044</td>\n      <td>-0.176</td>\n      <td>0.868</td>\n      <td>0.233</td>\n      <td>-0.078</td>\n      <td>297.00482</td>\n      <td>48.134129</td>\n      <td>15.436</td>\n    </tr>\n  </tbody>\n</table>\n<p>3 rows × 50 columns</p>\n</div>"
     },
     "metadata": {}
    }
   ],
   "execution_count": null
  },
  {
   "cell_type": "code",
   "metadata": {
    "tags": [],
    "cell_id": "00009-4d7b120a-cf7a-4a26-a846-7791f45d5081",
    "deepnote_to_be_reexecuted": false,
    "source_hash": "f22dcbdd",
    "execution_start": 1635459026438,
    "execution_millis": 8,
    "deepnote_cell_type": "code"
   },
   "source": "df_exoplanets.columns",
   "outputs": [
    {
     "output_type": "execute_result",
     "execution_count": 3,
     "data": {
      "text/plain": "Index(['rowid', 'kepid', 'kepoi_name', 'kepler_name', 'koi_disposition',\n       'koi_pdisposition', 'koi_score', 'koi_fpflag_nt', 'koi_fpflag_ss',\n       'koi_fpflag_co', 'koi_fpflag_ec', 'koi_period', 'koi_period_err1',\n       'koi_period_err2', 'koi_time0bk', 'koi_time0bk_err1',\n       'koi_time0bk_err2', 'koi_impact', 'koi_impact_err1', 'koi_impact_err2',\n       'koi_duration', 'koi_duration_err1', 'koi_duration_err2', 'koi_depth',\n       'koi_depth_err1', 'koi_depth_err2', 'koi_prad', 'koi_prad_err1',\n       'koi_prad_err2', 'koi_teq', 'koi_teq_err1', 'koi_teq_err2', 'koi_insol',\n       'koi_insol_err1', 'koi_insol_err2', 'koi_model_snr', 'koi_tce_plnt_num',\n       'koi_tce_delivname', 'koi_steff', 'koi_steff_err1', 'koi_steff_err2',\n       'koi_slogg', 'koi_slogg_err1', 'koi_slogg_err2', 'koi_srad',\n       'koi_srad_err1', 'koi_srad_err2', 'ra', 'dec', 'koi_kepmag'],\n      dtype='object')"
     },
     "metadata": {}
    }
   ],
   "execution_count": null
  },
  {
   "cell_type": "markdown",
   "source": "This dataset is a cumulative record of all observed Kepler \"objects of interest\" basically, all of the approximately 10,000 exoplanet candidates Kepler has taken observations on.\n\nThis dataset has an extensive data dictionary, which can be accessed [here](https://exoplanetarchive.ipac.caltech.edu/docs/API_kepcandidate_columns.html). Highlightable columns of note are:\n\n- *kepoi_name*: A KOI is a target identified by the Kepler Project that displays at least one transit-like sequence within Kepler time-series photometry that appears to be of astrophysical origin and initially consistent with a planetary transit hypothesis\n- *kepler_name*: These names are intended to clearly indicate a class of objects that have been confirmed or validated as planets—a step up from the planet candidate designation.\n- *koi_disposition*: The disposition in the literature towards this exoplanet candidate. One of CANDIDATE, FALSE POSITIVE, NOT DISPOSITIONED or CONFIRMED.\n- *koi_pdisposition*: The disposition Kepler data analysis has towards this exoplanet candidate. One of FALSE POSITIVE, NOT DISPOSITIONED, and CANDIDATE.\n- *koi_score*: A value between 0 and 1 that indicates the confidence in the KOI disposition. For CANDIDATEs, a higher value indicates more confidence in its disposition, while for FALSE POSITIVEs, a higher value indicates less confidence in that disposition.\n- *koi_ror*: The planet radius divided by the stellar radius.",
   "metadata": {
    "tags": [],
    "cell_id": "00007-7e02839b-b0e6-440d-bb5f-e8cf2b2194a8",
    "deepnote_cell_type": "markdown"
   }
  },
  {
   "cell_type": "markdown",
   "source": "## Questions",
   "metadata": {
    "tags": [],
    "is_collapsed": false,
    "cell_id": "00010-91f9b116-77b6-4794-9ed2-c62e5a187942",
    "deepnote_cell_type": "text-cell-h2"
   }
  },
  {
   "cell_type": "markdown",
   "source": "### Question 1",
   "metadata": {
    "tags": [],
    "is_collapsed": false,
    "cell_id": "00011-bbd06971-ca57-468a-83d4-4c01b970aa32",
    "deepnote_cell_type": "text-cell-h3"
   }
  },
  {
   "cell_type": "markdown",
   "source": "What can be said about this next graph?",
   "metadata": {
    "tags": [],
    "cell_id": "00012-46d32605-5dd3-4c79-bb64-3e73ad377dd1",
    "deepnote_cell_type": "markdown"
   }
  },
  {
   "cell_type": "code",
   "metadata": {
    "tags": [],
    "cell_id": "00016-88ae7c16-4651-43fa-8a7c-b5633f8fe71f",
    "deepnote_to_be_reexecuted": false,
    "source_hash": "c2f8a7db",
    "execution_start": 1635459026456,
    "execution_millis": 403,
    "deepnote_cell_type": "code"
   },
   "source": "fig, axarr = plt.subplots(2, 1, figsize=(8, 11))\n\ndf_exoplanets_grouped_koi_disposition = df_exoplanets['koi_disposition'].value_counts()\nsns.barplot(x=df_exoplanets_grouped_koi_disposition.index,y=df_exoplanets_grouped_koi_disposition.values, ax=axarr[0]);\naxarr[0].set_title(\"koi_disposition\", fontsize=15);\naxarr[0].set_xlabel('Categories', fontsize=13);\naxarr[0].set_ylabel('Value Counts', fontsize=13);\n\ndf_exoplanets_grouped_koi_pdisposition = df_exoplanets['koi_pdisposition'].value_counts()\nsns.barplot(x=df_exoplanets_grouped_koi_pdisposition.index,y=df_exoplanets_grouped_koi_pdisposition.values, ax=axarr[1]);\naxarr[1].set_title(\"koi_pdisposition\", fontsize=15);\naxarr[1].set_xlabel('Categories', fontsize=13);\naxarr[1].set_ylabel('Value Counts', fontsize=13);",
   "outputs": [
    {
     "data": {
      "text/plain": "<Figure size 576x792 with 2 Axes>",
      "image/png": "[encoded data removed]"
     },
     "metadata": {
      "needs_background": "light",
      "image/png": {
       "width": 509,
       "height": 664
      }
     },
     "output_type": "display_data"
    }
   ],
   "execution_count": null
  },
  {
   "cell_type": "markdown",
   "source": "### Question 2",
   "metadata": {
    "tags": [],
    "is_collapsed": false,
    "cell_id": "00012-42b9a773-25a4-42ad-90cd-0cb5098ecadb",
    "deepnote_cell_type": "text-cell-h3"
   }
  },
  {
   "cell_type": "markdown",
   "source": "What can be said about this next graph?",
   "metadata": {
    "tags": [],
    "cell_id": "00015-cd1c2fb6-bca9-4707-ab84-ac145c5e4b0f",
    "deepnote_cell_type": "markdown"
   }
  },
  {
   "cell_type": "code",
   "metadata": {
    "tags": [],
    "cell_id": "00016-5991a7d7-7f24-4e7f-bdd6-93fa2c3f753e",
    "deepnote_to_be_reexecuted": false,
    "source_hash": "2b8bfa6",
    "execution_start": 1635459026923,
    "execution_millis": 779,
    "deepnote_cell_type": "code"
   },
   "source": "fig, axarr = plt.subplots(2, 1, figsize=(8, 11))\n\nsns.histplot(data= df_exoplanets,x='koi_score',hue='koi_disposition',ax=axarr[0])\naxarr[0].set_title(\"koi_disposition\", fontsize=15);\n\nsns.histplot(data= df_exoplanets,x='koi_score',hue='koi_pdisposition',ax=axarr[1])\naxarr[1].set_title(\"koi_pdisposition\", fontsize=15);",
   "outputs": [
    {
     "data": {
      "text/plain": "<Figure size 576x792 with 2 Axes>",
      "image/png": "[encoded data removed]"
     },
     "metadata": {
      "needs_background": "light",
      "image/png": {
       "width": 507,
       "height": 662
      }
     },
     "output_type": "display_data"
    }
   ],
   "execution_count": null
  },
  {
   "cell_type": "markdown",
   "source": "### Question 3",
   "metadata": {
    "tags": [],
    "is_collapsed": false,
    "cell_id": "00013-f484054f-2fc7-478a-8e72-9f836a3768d6",
    "deepnote_cell_type": "text-cell-h3"
   }
  },
  {
   "cell_type": "markdown",
   "source": "What can be said about this next graph?",
   "metadata": {
    "tags": [],
    "cell_id": "00018-976c6297-b869-44f5-bf50-8e26a4465fc2",
    "deepnote_cell_type": "markdown"
   }
  },
  {
   "cell_type": "code",
   "metadata": {
    "tags": [],
    "cell_id": "00019-5af5e147-1cd7-4c97-b8ad-5b57530f37a7",
    "deepnote_to_be_reexecuted": false,
    "source_hash": "98e74c8",
    "execution_start": 1635459027711,
    "execution_millis": 255,
    "deepnote_cell_type": "code"
   },
   "source": "sns.boxplot(\n    x='koi_disposition',\n    y='koi_srad',\n    data=df_exoplanets\n)\nplt.ylim(bottom = 0, top=10)",
   "outputs": [
    {
     "output_type": "execute_result",
     "execution_count": 6,
     "data": {
      "text/plain": "(0.0, 10.0)"
     },
     "metadata": {}
    },
    {
     "data": {
      "text/plain": "<Figure size 432x288 with 1 Axes>",
      "image/png": "[encoded data removed]"
     },
     "metadata": {
      "needs_background": "light",
      "image/png": {
       "width": 383,
       "height": 267
      }
     },
     "output_type": "display_data"
    }
   ],
   "execution_count": null
  },
  {
   "cell_type": "markdown",
   "source": "### Question 4",
   "metadata": {
    "tags": [],
    "is_collapsed": false,
    "cell_id": "00014-259169a5-8677-4601-9c66-0cb942193035",
    "deepnote_cell_type": "text-cell-h3"
   }
  },
  {
   "cell_type": "markdown",
   "source": "What can be said about this next graph?",
   "metadata": {
    "tags": [],
    "cell_id": "00021-07353109-c251-44de-881b-24559fa20c83",
    "deepnote_cell_type": "markdown"
   }
  },
  {
   "cell_type": "code",
   "metadata": {
    "tags": [],
    "cell_id": "00022-cefa369c-987c-4c42-bf46-1116bad8d90c",
    "deepnote_to_be_reexecuted": false,
    "source_hash": "e5730186",
    "execution_start": 1635459027971,
    "execution_millis": 532,
    "deepnote_cell_type": "code"
   },
   "source": "sns.violinplot(\n    x='koi_disposition',\n    y='koi_steff',\n    data=df_exoplanets\n)\n",
   "outputs": [
    {
     "output_type": "execute_result",
     "execution_count": 7,
     "data": {
      "text/plain": "<AxesSubplot:xlabel='koi_disposition', ylabel='koi_steff'>"
     },
     "metadata": {}
    },
    {
     "data": {
      "text/plain": "<Figure size 432x288 with 1 Axes>",
      "image/png": "[encoded data removed]"
     },
     "metadata": {
      "needs_background": "light",
      "image/png": {
       "width": 402,
       "height": 263
      }
     },
     "output_type": "display_data"
    }
   ],
   "execution_count": null
  },
  {
   "cell_type": "markdown",
   "source": "### Question 5",
   "metadata": {
    "tags": [],
    "is_collapsed": false,
    "cell_id": "00015-8adca0a5-e143-40be-95ce-ca2e3c2e3f5e",
    "deepnote_cell_type": "text-cell-h3"
   }
  },
  {
   "cell_type": "markdown",
   "source": "What can be said about this next graph?",
   "metadata": {
    "tags": [],
    "cell_id": "00024-2462e87b-1219-4054-b5f6-4584be2a653a",
    "deepnote_cell_type": "markdown"
   }
  },
  {
   "cell_type": "code",
   "metadata": {
    "tags": [],
    "cell_id": "00025-49e5e7ea-3948-4bbd-8a0c-df35f1ba84ee",
    "deepnote_to_be_reexecuted": false,
    "source_hash": "1ad870a2",
    "execution_start": 1635459028509,
    "execution_millis": 1744,
    "deepnote_cell_type": "code"
   },
   "source": "sns.scatterplot(data=df_exoplanets,x='koi_teq',y ='koi_score',hue='koi_disposition')\n#plt.ylim(bottom = 0, top=10)\nplt.yscale('log')\nplt.xscale('log')",
   "outputs": [
    {
     "data": {
      "text/plain": "<Figure size 432x288 with 1 Axes>",
      "image/png": "[encoded data removed]"
     },
     "metadata": {
      "needs_background": "light",
      "image/png": {
       "width": 395,
       "height": 267
      }
     },
     "output_type": "display_data"
    }
   ],
   "execution_count": null
  },
  {
   "cell_type": "markdown",
   "source": "### Question 5",
   "metadata": {
    "tags": [],
    "is_collapsed": false,
    "cell_id": "00028-ba345c9e-5f5d-48e8-a6a1-1464f4b8b96d",
    "deepnote_cell_type": "text-cell-h3"
   }
  },
  {
   "cell_type": "markdown",
   "source": "What can be said about this next graph?",
   "metadata": {
    "tags": [],
    "cell_id": "00028-3c3583b5-caaa-41b1-9afa-7164c5d5a3e5",
    "deepnote_cell_type": "markdown"
   }
  },
  {
   "cell_type": "code",
   "metadata": {
    "tags": [],
    "cell_id": "00028-0d6ad6ff-9cbb-4758-8561-a9bda8b31e91",
    "deepnote_to_be_reexecuted": false,
    "source_hash": "1049d468",
    "execution_start": 1635459030258,
    "execution_millis": 1528,
    "deepnote_cell_type": "code"
   },
   "source": "sns.scatterplot(data=df_exoplanets,x='koi_teq',y ='koi_srad',hue='koi_disposition')\n#plt.ylim(bottom = 0, top=10)\nplt.yscale('log')\nplt.xscale('log')",
   "outputs": [
    {
     "data": {
      "text/plain": "<Figure size 432x288 with 1 Axes>",
      "image/png": "[encoded data removed]"
     },
     "metadata": {
      "needs_background": "light",
      "image/png": {
       "width": 395,
       "height": 267
      }
     },
     "output_type": "display_data"
    }
   ],
   "execution_count": null
  },
  {
   "cell_type": "markdown",
   "source": "<a style='text-decoration:none;line-height:16px;display:flex;color:#5B5B62;padding:10px;justify-content:end;' href='https://deepnote.com?utm_source=created-in-deepnote-cell&projectId=c3e4079d-b65d-4f98-a9c4-e84568c199f2' target=\"_blank\">\n<img alt='Created in deepnote.com' style='display:inline;max-height:16px;margin:0px;margin-right:7.5px;' src='data:image/svg+xml;base64,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' > </img>\nCreated in <span style='font-weight:600;margin-left:4px;'>Deepnote</span></a>",
   "metadata": {
    "tags": [],
    "created_in_deepnote_cell": true,
    "deepnote_cell_type": "markdown"
   }
  }
 ],
 "nbformat": 4,
 "nbformat_minor": 2,
 "metadata": {
  "orig_nbformat": 2,
  "deepnote": {
   "is_reactive": false
  },
  "deepnote_notebook_id": "04eadf2d-3a2b-418b-8c7d-33f11e9bcacf",
  "deepnote_execution_queue": []
 }
}